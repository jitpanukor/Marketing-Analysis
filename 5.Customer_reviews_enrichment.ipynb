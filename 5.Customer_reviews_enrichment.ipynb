{
 "cells": [
  {
   "cell_type": "markdown",
   "id": "e559f3a4-dcc2-41fa-b6ee-80a4ada97a6f",
   "metadata": {},
   "source": [
    "## Sentiment Analysis"
   ]
  },
  {
   "cell_type": "code",
   "execution_count": 3,
   "id": "92d20685-99b5-43da-9491-7871da499ca9",
   "metadata": {},
   "outputs": [],
   "source": [
    "import pandas as pd\n",
    "import pyodbc\n",
    "import nltk\n",
    "from nltk.sentiment.vader import SentimentIntensityAnalyzer"
   ]
  },
  {
   "cell_type": "code",
   "execution_count": 5,
   "id": "f2cc7a52-6cfb-4f4f-b1ab-e962cc55b344",
   "metadata": {},
   "outputs": [
    {
     "name": "stderr",
     "output_type": "stream",
     "text": [
      "[nltk_data] Downloading package vader_lexicon to\n",
      "[nltk_data]     C:\\Users\\Jaja\\AppData\\Roaming\\nltk_data...\n"
     ]
    },
    {
     "data": {
      "text/plain": [
       "True"
      ]
     },
     "execution_count": 5,
     "metadata": {},
     "output_type": "execute_result"
    }
   ],
   "source": [
    "# Download the VADER lexicon for sentiment analysis if not already present.\n",
    "\n",
    "nltk.download('vader_lexicon')"
   ]
  },
  {
   "cell_type": "code",
   "execution_count": 57,
   "id": "18539a30-3132-4857-9c99-6d8a98fb89b1",
   "metadata": {},
   "outputs": [
    {
     "data": {
      "text/html": [
       "<div>\n",
       "<style scoped>\n",
       "    .dataframe tbody tr th:only-of-type {\n",
       "        vertical-align: middle;\n",
       "    }\n",
       "\n",
       "    .dataframe tbody tr th {\n",
       "        vertical-align: top;\n",
       "    }\n",
       "\n",
       "    .dataframe thead th {\n",
       "        text-align: right;\n",
       "    }\n",
       "</style>\n",
       "<table border=\"1\" class=\"dataframe\">\n",
       "  <thead>\n",
       "    <tr style=\"text-align: right;\">\n",
       "      <th></th>\n",
       "      <th>ReviewID</th>\n",
       "      <th>CustomerID</th>\n",
       "      <th>ProductID</th>\n",
       "      <th>ReviewDate</th>\n",
       "      <th>Rating</th>\n",
       "      <th>ReviewText</th>\n",
       "    </tr>\n",
       "  </thead>\n",
       "  <tbody>\n",
       "    <tr>\n",
       "      <th>0</th>\n",
       "      <td>1</td>\n",
       "      <td>77</td>\n",
       "      <td>18</td>\n",
       "      <td>12/23/2023</td>\n",
       "      <td>3</td>\n",
       "      <td>Average experience, nothing special.</td>\n",
       "    </tr>\n",
       "    <tr>\n",
       "      <th>1</th>\n",
       "      <td>2</td>\n",
       "      <td>80</td>\n",
       "      <td>19</td>\n",
       "      <td>12/25/2024</td>\n",
       "      <td>5</td>\n",
       "      <td>The quality is  top-notch.</td>\n",
       "    </tr>\n",
       "    <tr>\n",
       "      <th>2</th>\n",
       "      <td>3</td>\n",
       "      <td>50</td>\n",
       "      <td>13</td>\n",
       "      <td>1/26/2025</td>\n",
       "      <td>4</td>\n",
       "      <td>Five stars for the quick delivery.</td>\n",
       "    </tr>\n",
       "    <tr>\n",
       "      <th>3</th>\n",
       "      <td>4</td>\n",
       "      <td>78</td>\n",
       "      <td>15</td>\n",
       "      <td>4/21/2025</td>\n",
       "      <td>3</td>\n",
       "      <td>Good quality, but could be cheaper.</td>\n",
       "    </tr>\n",
       "    <tr>\n",
       "      <th>4</th>\n",
       "      <td>5</td>\n",
       "      <td>64</td>\n",
       "      <td>2</td>\n",
       "      <td>7/16/2023</td>\n",
       "      <td>3</td>\n",
       "      <td>Average experience, nothing special.</td>\n",
       "    </tr>\n",
       "  </tbody>\n",
       "</table>\n",
       "</div>"
      ],
      "text/plain": [
       "   ReviewID  CustomerID  ProductID  ReviewDate  Rating  \\\n",
       "0         1          77         18  12/23/2023       3   \n",
       "1         2          80         19  12/25/2024       5   \n",
       "2         3          50         13   1/26/2025       4   \n",
       "3         4          78         15   4/21/2025       3   \n",
       "4         5          64          2   7/16/2023       3   \n",
       "\n",
       "                             ReviewText  \n",
       "0  Average experience, nothing special.  \n",
       "1            The quality is  top-notch.  \n",
       "2    Five stars for the quick delivery.  \n",
       "3   Good quality, but could be cheaper.  \n",
       "4  Average experience, nothing special.  "
      ]
     },
     "execution_count": 57,
     "metadata": {},
     "output_type": "execute_result"
    }
   ],
   "source": [
    "customer_reviews_df = pd.read_csv(r'C:\\Users\\Jaja\\Desktop\\DA Portfolio\\Ali Ahmad\\Exported Fact_Customer Reviews.csv')\n",
    "\n",
    "customer_reviews_df.head()"
   ]
  },
  {
   "cell_type": "code",
   "execution_count": 59,
   "id": "4c32786b-a26e-4964-8869-0cf8d91e1b13",
   "metadata": {},
   "outputs": [],
   "source": [
    "# Initialize the VADER sentiment intensity analyzer for analyzing the sentiment of text data\n",
    "\n",
    "sia = SentimentIntensityAnalyzer()"
   ]
  },
  {
   "cell_type": "code",
   "execution_count": 61,
   "id": "293896b3-bb44-49e8-81b6-790e45f0b090",
   "metadata": {},
   "outputs": [],
   "source": [
    "# Define a function to calculate sentiment scores using VADER\n",
    "\n",
    "def calculate_sentiment(review):\n",
    "    # Get the sentiment scores for the review text\n",
    "    sentiment = sia.polarity_scores(review)\n",
    "    # Return the compound score, which is a normalized score between -1 (most negative) and 1 (most positive)\n",
    "    return sentiment['compound']"
   ]
  },
  {
   "cell_type": "code",
   "execution_count": 63,
   "id": "000af99b-6a5d-4920-ab33-cb2b30e735dc",
   "metadata": {},
   "outputs": [],
   "source": [
    "# Define a function to categorize sentiment using both the sentiment score and the review rating\n",
    "\n",
    "def categorize_sentiment(score, rating):\n",
    "    # Use both the text sentiment score and the numerical rating to determine sentiment category\n",
    "    if score > 0.05:  # Positive sentiment score\n",
    "        if rating >= 4:\n",
    "            return 'Positive'  # High rating and positive sentiment\n",
    "        elif rating == 3:\n",
    "            return 'Mixed Positive'  # Neutral rating but positive sentiment\n",
    "        else:\n",
    "            return 'Mixed Negative'  # Low rating but positive sentiment\n",
    "    elif score < -0.05:  # Negative sentiment score\n",
    "        if rating <= 2:\n",
    "            return 'Negative'  # Low rating and negative sentiment\n",
    "        elif rating == 3:\n",
    "            return 'Mixed Negative'  # Neutral rating but negative sentiment\n",
    "        else:\n",
    "            return 'Mixed Positive'  # High rating but negative sentiment\n",
    "    else:  # Neutral sentiment score\n",
    "        if rating >= 4:\n",
    "            return 'Positive'  # High rating with neutral sentiment\n",
    "        elif rating <= 2:\n",
    "            return 'Negative'  # Low rating with neutral sentiment\n",
    "        else:\n",
    "            return 'Neutral'  # Neutral rating and neutral sentiment"
   ]
  },
  {
   "cell_type": "code",
   "execution_count": 65,
   "id": "25c760c5-9979-4d3c-bea0-9a1b88774641",
   "metadata": {},
   "outputs": [],
   "source": [
    "# Define a function to bucket sentiment scores into text ranges\n",
    "\n",
    "def sentiment_bucket(score):\n",
    "    if score >= 0.5:\n",
    "        return '0.5 to 1.0'  # Strongly positive sentiment\n",
    "    elif 0.0 <= score < 0.5:\n",
    "        return '0.0 to 0.49'  # Mildly positive sentiment\n",
    "    elif -0.5 <= score < 0.0:\n",
    "        return '-0.49 to 0.0'  # Mildly negative sentiment\n",
    "    else:\n",
    "        return '-1.0 to -0.5'  # Strongly negative sentiment"
   ]
  },
  {
   "cell_type": "code",
   "execution_count": 67,
   "id": "ca75e640-fe5c-4137-a350-ef296c491c00",
   "metadata": {},
   "outputs": [],
   "source": [
    "# Apply sentiment analysis to calculate sentiment scores for each review\n",
    "\n",
    "customer_reviews_df['SentimentScore'] = customer_reviews_df['ReviewText'].apply(calculate_sentiment)"
   ]
  },
  {
   "cell_type": "code",
   "execution_count": 69,
   "id": "40191b89-3c89-41d0-81f7-417ec370b749",
   "metadata": {},
   "outputs": [],
   "source": [
    "# Apply sentiment categorization using both text and rating\n",
    "\n",
    "customer_reviews_df['SentimentCategory'] = customer_reviews_df.apply(\n",
    "    lambda row: categorize_sentiment(row['SentimentScore'], row['Rating']), axis=1)"
   ]
  },
  {
   "cell_type": "code",
   "execution_count": 71,
   "id": "d6b9fde2-d0e2-4d42-a869-9a538c3e25a7",
   "metadata": {},
   "outputs": [],
   "source": [
    "# Apply sentiment bucketing to categorize scores into defined ranges\n",
    "\n",
    "customer_reviews_df['SentimentBucket'] = customer_reviews_df['SentimentScore'].apply(sentiment_bucket)"
   ]
  },
  {
   "cell_type": "code",
   "execution_count": 73,
   "id": "1058240e-2290-4630-9f18-890f0652aca6",
   "metadata": {},
   "outputs": [
    {
     "data": {
      "text/html": [
       "<div>\n",
       "<style scoped>\n",
       "    .dataframe tbody tr th:only-of-type {\n",
       "        vertical-align: middle;\n",
       "    }\n",
       "\n",
       "    .dataframe tbody tr th {\n",
       "        vertical-align: top;\n",
       "    }\n",
       "\n",
       "    .dataframe thead th {\n",
       "        text-align: right;\n",
       "    }\n",
       "</style>\n",
       "<table border=\"1\" class=\"dataframe\">\n",
       "  <thead>\n",
       "    <tr style=\"text-align: right;\">\n",
       "      <th></th>\n",
       "      <th>ReviewID</th>\n",
       "      <th>CustomerID</th>\n",
       "      <th>ProductID</th>\n",
       "      <th>ReviewDate</th>\n",
       "      <th>Rating</th>\n",
       "      <th>ReviewText</th>\n",
       "      <th>SentimentScore</th>\n",
       "      <th>SentimentCategory</th>\n",
       "      <th>SentimentBucket</th>\n",
       "    </tr>\n",
       "  </thead>\n",
       "  <tbody>\n",
       "    <tr>\n",
       "      <th>0</th>\n",
       "      <td>1</td>\n",
       "      <td>77</td>\n",
       "      <td>18</td>\n",
       "      <td>12/23/2023</td>\n",
       "      <td>3</td>\n",
       "      <td>Average experience, nothing special.</td>\n",
       "      <td>-0.3089</td>\n",
       "      <td>Mixed Negative</td>\n",
       "      <td>-0.49 to 0.0</td>\n",
       "    </tr>\n",
       "    <tr>\n",
       "      <th>1</th>\n",
       "      <td>2</td>\n",
       "      <td>80</td>\n",
       "      <td>19</td>\n",
       "      <td>12/25/2024</td>\n",
       "      <td>5</td>\n",
       "      <td>The quality is  top-notch.</td>\n",
       "      <td>0.0000</td>\n",
       "      <td>Positive</td>\n",
       "      <td>0.0 to 0.49</td>\n",
       "    </tr>\n",
       "    <tr>\n",
       "      <th>2</th>\n",
       "      <td>3</td>\n",
       "      <td>50</td>\n",
       "      <td>13</td>\n",
       "      <td>1/26/2025</td>\n",
       "      <td>4</td>\n",
       "      <td>Five stars for the quick delivery.</td>\n",
       "      <td>0.0000</td>\n",
       "      <td>Positive</td>\n",
       "      <td>0.0 to 0.49</td>\n",
       "    </tr>\n",
       "    <tr>\n",
       "      <th>3</th>\n",
       "      <td>4</td>\n",
       "      <td>78</td>\n",
       "      <td>15</td>\n",
       "      <td>4/21/2025</td>\n",
       "      <td>3</td>\n",
       "      <td>Good quality, but could be cheaper.</td>\n",
       "      <td>0.2382</td>\n",
       "      <td>Mixed Positive</td>\n",
       "      <td>0.0 to 0.49</td>\n",
       "    </tr>\n",
       "    <tr>\n",
       "      <th>4</th>\n",
       "      <td>5</td>\n",
       "      <td>64</td>\n",
       "      <td>2</td>\n",
       "      <td>7/16/2023</td>\n",
       "      <td>3</td>\n",
       "      <td>Average experience, nothing special.</td>\n",
       "      <td>-0.3089</td>\n",
       "      <td>Mixed Negative</td>\n",
       "      <td>-0.49 to 0.0</td>\n",
       "    </tr>\n",
       "  </tbody>\n",
       "</table>\n",
       "</div>"
      ],
      "text/plain": [
       "   ReviewID  CustomerID  ProductID  ReviewDate  Rating  \\\n",
       "0         1          77         18  12/23/2023       3   \n",
       "1         2          80         19  12/25/2024       5   \n",
       "2         3          50         13   1/26/2025       4   \n",
       "3         4          78         15   4/21/2025       3   \n",
       "4         5          64          2   7/16/2023       3   \n",
       "\n",
       "                             ReviewText  SentimentScore SentimentCategory  \\\n",
       "0  Average experience, nothing special.         -0.3089    Mixed Negative   \n",
       "1            The quality is  top-notch.          0.0000          Positive   \n",
       "2    Five stars for the quick delivery.          0.0000          Positive   \n",
       "3   Good quality, but could be cheaper.          0.2382    Mixed Positive   \n",
       "4  Average experience, nothing special.         -0.3089    Mixed Negative   \n",
       "\n",
       "  SentimentBucket  \n",
       "0    -0.49 to 0.0  \n",
       "1     0.0 to 0.49  \n",
       "2     0.0 to 0.49  \n",
       "3     0.0 to 0.49  \n",
       "4    -0.49 to 0.0  "
      ]
     },
     "execution_count": 73,
     "metadata": {},
     "output_type": "execute_result"
    }
   ],
   "source": [
    "# Display the first few rows of the DataFrame with sentiment scores, categories, and buckets\n",
    "\n",
    "customer_reviews_df.head()"
   ]
  },
  {
   "cell_type": "code",
   "execution_count": 75,
   "id": "aa0f0aad-afab-4a36-b689-d493c93cdc2e",
   "metadata": {},
   "outputs": [],
   "source": [
    "# Save the DataFrame with sentiment scores, categories, and buckets to a new CSV file\n",
    "\n",
    "customer_reviews_df.to_excel('fact_customer_reviews_with_sentiment.xlsx', index=False)"
   ]
  },
  {
   "cell_type": "code",
   "execution_count": null,
   "id": "6d9f5839-50c8-4ea6-99d5-0995271313e6",
   "metadata": {},
   "outputs": [],
   "source": []
  },
  {
   "cell_type": "code",
   "execution_count": null,
   "id": "58a5a62c-b693-400b-98cd-14baad5120fc",
   "metadata": {},
   "outputs": [],
   "source": []
  }
 ],
 "metadata": {
  "kernelspec": {
   "display_name": "Python 3 (ipykernel)",
   "language": "python",
   "name": "python3"
  },
  "language_info": {
   "codemirror_mode": {
    "name": "ipython",
    "version": 3
   },
   "file_extension": ".py",
   "mimetype": "text/x-python",
   "name": "python",
   "nbconvert_exporter": "python",
   "pygments_lexer": "ipython3",
   "version": "3.12.4"
  }
 },
 "nbformat": 4,
 "nbformat_minor": 5
}
